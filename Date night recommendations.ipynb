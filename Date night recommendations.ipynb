{
    "cells": [
        {
            "cell_type": "markdown",
            "metadata": {
                "collapsed": true
            },
            "source": "Date night recommendation project"
        },
        {
            "cell_type": "markdown",
            "metadata": {},
            "source": "Introduction / business problem\n\nYou may know your favourite bar for a date, but what about other activities? What about also a going to a restaurant? Whilst you can use your own personal experience to get an idea of 1 or 2 of these, I am proposing a recommendation system to build the entire evenings itinerary. It will be based on the top ranking locations for 3 categories; drinks (eg. bars), activities (eg. cinema, mini golf) and restaurants. The idea is that the user will be asked to enter the postcode in which they plan to old their date, and the output will be a recommendation from each of the 3 categories.\n\nA description of the data and how it will be used to solve the problem. (15 mark\n\nI will be using the Foursquare database to access the location and ratings of the venues. I will need to setup code that is able to re-classify each venue into one of the 3 categories. Foursquare data already has categories but they are wide ranging, so I would need to first identify approximately how many there are and setup code to change these as they come through. \n\nI will then use the location data to tell me how many venues for each particular category show up for an inputted location and inputted radius. These will then be ranked based on Foursquare rating, finally with the #1 rated in each category being output for the user."
        },
        {
            "cell_type": "code",
            "execution_count": null,
            "metadata": {},
            "outputs": [],
            "source": ""
        }
    ],
    "metadata": {
        "kernelspec": {
            "display_name": "Python 3.6",
            "language": "python",
            "name": "python3"
        },
        "language_info": {
            "codemirror_mode": {
                "name": "ipython",
                "version": 3
            },
            "file_extension": ".py",
            "mimetype": "text/x-python",
            "name": "python",
            "nbconvert_exporter": "python",
            "pygments_lexer": "ipython3",
            "version": "3.6.9"
        }
    },
    "nbformat": 4,
    "nbformat_minor": 1
}